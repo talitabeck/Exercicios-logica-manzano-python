{
  "nbformat": 4,
  "nbformat_minor": 0,
  "metadata": {
    "colab": {
      "provenance": []
    },
    "kernelspec": {
      "name": "python3",
      "display_name": "Python 3"
    },
    "language_info": {
      "name": "python"
    }
  },
  "cells": [
    {
      "cell_type": "code",
      "execution_count": null,
      "metadata": {
        "id": "JHvUT1XEqNeI"
      },
      "outputs": [],
      "source": [
        "#Exercício 1 lista 4\n",
        "#a) Apresentar os quadrados dos números inteiros de 15 a 200\n",
        "\n",
        "for i in range(15, 201):\n",
        "    quadrado = i ** 2\n",
        "    print(f\"O quadrado de {i} é {quadrado}\")"
      ]
    },
    {
      "cell_type": "code",
      "source": [
        "# b) Elaborar um programa que apresente no final o somatório dos valores pares existentes na faixa de\n",
        "# 1 até 500.\n",
        "\n",
        "soma = 0\n",
        "\n",
        "for i in range(1, 501):\n",
        "    if i % 2 == 0:  # verifica se o número é par\n",
        "        soma += i\n",
        "\n",
        "print(\"O somatório dos valores pares de 1 a 500 é:\", soma)"
      ],
      "metadata": {
        "id": "jLlJHAjErt2w"
      },
      "execution_count": null,
      "outputs": []
    },
    {
      "cell_type": "code",
      "source": [
        "\n",
        "# c) Apresentar todos os números divisíveis por 4 que sejam menores que 200. Para verificar se o\n",
        "# número é divisível por 4, efetuar dentro da malha a verificação lógica desta condição com a\n",
        "# instrução se, perguntando se o número é divisível; sendo, mostre-o; não sendo, passe para o\n",
        "# próximo passo. A variável que controlará o contador deve ser iniciada com o valor 1.\n",
        "\n",
        "contador = 1\n",
        "\n",
        "while contador < 200:\n",
        "    if contador % 4 == 0:  # verifica se o número é divisível por 4\n",
        "        print(contador)\n",
        "    \n",
        "    contador += 1"
      ],
      "metadata": {
        "id": "P9gDELuRryLz"
      },
      "execution_count": null,
      "outputs": []
    },
    {
      "cell_type": "code",
      "source": [
        "\n",
        "# d) Elaborar um programa que efetue o cálculo e no final apresente o somatório do número de grãos de\n",
        "# trigo que se pode obter num tabuleiro de xadrez, obedecendo à seguinte regra: colocar um grão de\n",
        "# trigo no primeiro quadro e nos quadros seguintes o dobro do quadro anterior. Ou seja, no primeiro\n",
        "# quadro coloca-se 1 grão, no segundo quadro colocam-se 2 grãos (neste momento têm-se 3 grãos),\n",
        "# no terceiro quadro colocam-se 4 grãos (tendo neste momento 7 grãos), no quarto colocam-se 8\n",
        "# grãos (tendo-se então 15 grãos) até atingir o sexagésimo quarto (64o) quadro. Utilize variáveis do\n",
        "# tipo real como acumuladores.\n",
        "\n",
        "soma = 0\n",
        "graos_quadro_anterior = 1\n",
        "\n",
        "for quadro in range(1, 65):\n",
        "    soma += graos_quadro_anterior\n",
        "    graos_quadro_anterior *= 2\n",
        "\n",
        "print(\"O somatório do número de grãos de trigo é:\", soma)"
      ],
      "metadata": {
        "id": "2UISI8vRsFZ0"
      },
      "execution_count": null,
      "outputs": []
    },
    {
      "cell_type": "code",
      "source": [
        "# e) Elaborar um programa que efetue a leitura de 15 valores numéricos inteiros e no final apresente o\n",
        "# total do somatório da fatorial de cada valor lido.\n",
        "\n",
        "def fatorial(n):\n",
        "    if n == 0 or n == 1:\n",
        "        return 1\n",
        "    else:\n",
        "        return n * fatorial(n - 1)\n",
        "\n",
        "soma = 0\n",
        "\n",
        "for _ in range(15):\n",
        "    valor = int(input(\"Digite um valor inteiro: \"))\n",
        "    soma += fatorial(valor)\n",
        "\n",
        "print(\"O total do somatório da fatorial de cada valor lido é:\", soma)"
      ],
      "metadata": {
        "id": "M24TdekMsK6r"
      },
      "execution_count": null,
      "outputs": []
    },
    {
      "cell_type": "code",
      "source": [
        "# f) Elaborar um programa que efetue a leitura sucessiva de valores numéricos e apresente no final o\n",
        "# total do somatório, a média aritmética e o total de valores lidos. O programa deve fazer as leituras\n",
        "# dos valores enquanto o usuário estiver fornecendo valores positivos. Ou seja, o programa deve\n",
        "# parar quando o usuário fornecer um valor negativo. Não se esqueça que o usuário pode entrar\n",
        "# como primeiro número um número negativo, portanto, cuidado com a divisão por zero no cálculo da\n",
        "# média.\n",
        "\n",
        "soma = 0\n",
        "contador = 0\n",
        "\n",
        "while True:\n",
        "    valor = int(input(\"Digite um valor numérico (negativo para sair): \"))\n",
        "    if valor < 0:\n",
        "        break\n",
        "    soma += valor\n",
        "    contador += 1\n",
        "\n",
        "if contador > 0:\n",
        "    media = soma / contador\n",
        "else:\n",
        "    media = 0\n",
        "\n",
        "print(\"Total do somatório:\", soma)\n",
        "print(\"Média aritmética:\", media)\n",
        "print(\"Total de valores lidos:\", contador)"
      ],
      "metadata": {
        "id": "whseoAXqsW35"
      },
      "execution_count": null,
      "outputs": []
    },
    {
      "cell_type": "code",
      "source": [
        "# g) Elaborar um programa que apresente como resultado o valor do fatorial dos valores ímpares\n",
        "# situados na faixa numérica de 1 a 10.\n",
        "\n",
        "def fatorial(n):\n",
        "    if n == 0 or n == 1:\n",
        "        return 1\n",
        "    else:\n",
        "        return n * fatorial(n - 1)\n",
        "\n",
        "for num in range(1, 11, 2):\n",
        "    resultado = fatorial(num)\n",
        "    print(f\"O fatorial de {num} é {resultado}\")"
      ],
      "metadata": {
        "id": "G8jvsA-GsiXD"
      },
      "execution_count": null,
      "outputs": []
    },
    {
      "cell_type": "code",
      "source": [
        "# h) Elaborar um programa que possibilite calcular a área total de uma residência (sala, cozinha,\n",
        "# banheiro, quartos, área de serviço, quintal, garagem, etc.). O programa deve solicitar a entrada do\n",
        "# nome, a largura e o comprimento de um determinado cômodo. Em seguida, deve apresentar a área\n",
        "# do cômodo lido e também uma mensagem solicitando do usuário a confirmação de continuar\n",
        "# calculando novos cômodos. Caso o usuário responda “NAO”, o programa deve apresentar o valor\n",
        "# total acumulado da área residencial.\n",
        "\n",
        "continuar = True\n",
        "area_total = 0\n",
        "\n",
        "while continuar:\n",
        "    nome = input(\"Digite o nome do cômodo: \")\n",
        "    largura = float(input(\"Digite a largura do cômodo (em metros): \"))\n",
        "    comprimento = float(input(\"Digite o comprimento do cômodo (em metros): \"))\n",
        "\n",
        "    area = largura * comprimento\n",
        "    area_total += area\n",
        "\n",
        "    print(f\"A área do cômodo {nome} é de {area} metros quadrados.\")\n",
        "\n",
        "    resposta = input(\"Deseja calcular a área de mais um cômodo? (SIM/NAO): \")\n",
        "    if resposta.upper() == \"NAO\":\n",
        "        continuar = False\n",
        "\n",
        "print(\"A área total da residência é de\", area_total, \"metros quadrados.\")"
      ],
      "metadata": {
        "id": "QZYKq8Vyst3-"
      },
      "execution_count": null,
      "outputs": []
    },
    {
      "cell_type": "code",
      "source": [
        "# i) Elaborar um programa que efetue a leitura de valores positivos inteiros até que um valor negativo\n",
        "# seja informado. Ao final devem ser apresentados o maior e o menor valores informados pelo\n",
        "# usuário.\n",
        "\n",
        "maior = float('-inf')  # Inicializa a variável maior com um valor negativo infinito\n",
        "menor = float('inf')   # Inicializa a variável menor com um valor positivo infinito\n",
        "\n",
        "while True:\n",
        "    valor = int(input(\"Digite um valor positivo inteiro (ou negativo para sair): \"))\n",
        "    if valor < 0:\n",
        "        break\n",
        "\n",
        "    if valor > maior:\n",
        "        maior = valor\n",
        "\n",
        "    if valor < menor:\n",
        "        menor = valor\n",
        "\n",
        "print(\"Maior valor informado:\", maior)\n",
        "print(\"Menor valor informado:\", menor)"
      ],
      "metadata": {
        "id": "AP7T0-wDs5RW"
      },
      "execution_count": null,
      "outputs": []
    },
    {
      "cell_type": "code",
      "source": [
        "# j) Elaborar um programa que apresente o resultado inteiro da divisão de dois números quaisquer.\n",
        "# Para a elaboração do programa, não utilizar em hipótese alguma o conceito do operador aritmético\n",
        "# DIV. A solução deve ser alcançada com a utilização de looping. Ou seja, o programa deve\n",
        "# apresentar como resultado (quociente) quantas vezes o divisor cabe no dividendo.\n",
        "\n",
        "dividendo = int(input(\"Digite o dividendo: \"))\n",
        "divisor = int(input(\"Digite o divisor: \"))\n",
        "\n",
        "quociente = 0\n",
        "\n",
        "while dividendo >= divisor:\n",
        "    dividendo -= divisor\n",
        "    quociente += 1\n",
        "\n",
        "print(\"Resultado inteiro da divisão:\", quociente)"
      ],
      "metadata": {
        "id": "jyVNSsz8tDRH"
      },
      "execution_count": null,
      "outputs": []
    },
    {
      "cell_type": "code",
      "source": [
        "#Exercício 1 lista 6\n",
        "# a) Ler 10 elementos de uma matriz tipo vetor e apresentá-los.\n",
        "matriz = []\n",
        "\n",
        "for i in range(10):\n",
        "    elemento = int(input(\"Digite o elemento da posição {}: \".format(i)))\n",
        "    matriz.append(elemento)\n",
        "\n",
        "print(\"Elementos da matriz:\")\n",
        "for i in range(10):\n",
        "    print(matriz[i])"
      ],
      "metadata": {
        "id": "6HyxiZeNtSmM"
      },
      "execution_count": null,
      "outputs": []
    },
    {
      "cell_type": "code",
      "source": [
        "# b) Ler 8 elementos em uma matriz A tipo vetor. Construir uma matriz B de mesma dimensão com os\n",
        "# elementos da matriz A multiplicados por 3. O elemento B[i] deverá ser implicado pelo elemento\n",
        "# A[i]*3, o elemento B[2] implicado pelo elemento A[2]*3 e assim por diante, até 8. Apresentar o vetor\n",
        "# B.\n",
        "\n",
        "matriz_A = []\n",
        "for i in range(8):\n",
        "    elemento = int(input(\"Digite o elemento da posição {}: \".format(i)))\n",
        "    matriz_A.append(elemento)\n",
        "\n",
        "matriz_B = []\n",
        "for i in range(8):\n",
        "    elemento_B = matriz_A[i] * 3\n",
        "    matriz_B.append(elemento_B)\n",
        "\n",
        "print(\"Vetor B:\")\n",
        "for elemento in matriz_B:\n",
        "    print(elemento)"
      ],
      "metadata": {
        "id": "E2c6JTbBt9Cd"
      },
      "execution_count": null,
      "outputs": []
    },
    {
      "cell_type": "code",
      "source": [
        "# c) Ler duas matrizes A e B do tipo vetor com 20 elementos. Construir uma matriz C, onde cada\n",
        "# elemento de C é a subtração do elemento correspondente de A com B. Apresentar a matriz C.\n",
        "\n",
        "matriz_A = []\n",
        "for i in range(8):\n",
        "    elemento = int(input(\"Digite o elemento da posição {}: \".format(i)))\n",
        "    matriz_A.append(elemento)\n",
        "\n",
        "matriz_B = []\n",
        "for i in range(8):\n",
        "    elemento_B = matriz_A[i] * 3\n",
        "    matriz_B.append(elemento_B)\n",
        "\n",
        "print(\"Vetor B:\")\n",
        "for elemento in matriz_B:\n",
        "    print(elemento)"
      ],
      "metadata": {
        "id": "20rVQBP7uKlM"
      },
      "execution_count": null,
      "outputs": []
    },
    {
      "cell_type": "code",
      "source": [
        "# d) Ler 15 elementos de uma matriz tipo vetor. Construir uma matriz B de mesmo tipo, observando a\n",
        "# seguintes lei de formação: “Todo elemento de B deverá ser o quadrado do elemento de A\n",
        "# correspondente”. Apresentar as matrizes A e B.\n",
        "\n",
        "matriz_A = []\n",
        "for i in range(15):\n",
        "    elemento_A = int(input(\"Digite o elemento da matriz A na posição {}: \".format(i)))\n",
        "    matriz_A.append(elemento_A)\n",
        "\n",
        "matriz_B = []\n",
        "for elemento_A in matriz_A:\n",
        "    elemento_B = elemento_A ** 2\n",
        "    matriz_B.append(elemento_B)\n",
        "\n",
        "print(\"Matriz A:\")\n",
        "for elemento in matriz_A:\n",
        "    print(elemento)\n",
        "\n",
        "print(\"Matriz B:\")\n",
        "for elemento in matriz_B:\n",
        "    print(elemento)"
      ],
      "metadata": {
        "id": "B-b3CfOyuX_5"
      },
      "execution_count": null,
      "outputs": []
    },
    {
      "cell_type": "code",
      "source": [
        "# e) Ler duas matrizes A e B do tipo vetor com 15 elementos cada. Construir uma matriz C, sendo esta a\n",
        "# junção das duas outras matrizes. Desta forma, C deverá ter o dobro de elementos, ou seja, 30.\n",
        "# Apresentar a matriz C.\n",
        "\n",
        "matriz_A = []\n",
        "for i in range(15):\n",
        "    elemento_A = int(input(\"Digite o elemento da matriz A na posição {}: \".format(i)))\n",
        "    matriz_A.append(elemento_A)\n",
        "\n",
        "matriz_B = []\n",
        "for i in range(15):\n",
        "    elemento_B = int(input(\"Digite o elemento da matriz B na posição {}: \".format(i)))\n",
        "    matriz_B.append(elemento_B)\n",
        "\n",
        "matriz_C = []\n",
        "matriz_C.extend(matriz_A)\n",
        "matriz_C.extend(matriz_B)\n",
        "\n",
        "print(\"Matriz C:\")\n",
        "for elemento in matriz_C:\n",
        "    print(elemento)\n"
      ],
      "metadata": {
        "id": "dy_iZkL2u39O"
      },
      "execution_count": null,
      "outputs": []
    },
    {
      "cell_type": "code",
      "source": [
        "# f) Ler duas matrizes do tipo vetor, sendo A com 20 elementos e B com 30 elementos. Construir uma\n",
        "# matriz C, sendo esta a junção das duas outras matrizes. Desta forma, C deverá ter a capacidade de\n",
        "# armazenar 50 elementos. Apresentar a matriz C.\n",
        "\n",
        "matriz_A = []\n",
        "for i in range(20):\n",
        "    elemento_A = int(input(\"Digite o elemento da matriz A na posição {}: \".format(i)))\n",
        "    matriz_A.append(elemento_A)\n",
        "\n",
        "matriz_B = []\n",
        "for i in range(30):\n",
        "    elemento_B = int(input(\"Digite o elemento da matriz B na posição {}: \".format(i)))\n",
        "    matriz_B.append(elemento_B)\n",
        "\n",
        "matriz_C = []\n",
        "matriz_C.extend(matriz_A)\n",
        "matriz_C.extend(matriz_B)\n",
        "\n",
        "print(\"Matriz C:\")\n",
        "for elemento in matriz_C:\n",
        "    print(elemento)"
      ],
      "metadata": {
        "id": "6wdZrDNyvMKN"
      },
      "execution_count": null,
      "outputs": []
    },
    {
      "cell_type": "code",
      "source": [
        "# g) Ler 20 elementos de uma matriz A tipo vetor e construir uma matriz B de mesma dimensão com os\n",
        "# mesmo elementos da matriz A, sendo que deverão estar invertidos. Ou seja, o primeiro elemento de\n",
        "# A passa a ser o último de B, o segundo elemento de A passa a ser o penúltimo elemento de B e\n",
        "# assim por diante. Apresentar as matrizes A e B lado a lado.\n",
        "\n",
        "matriz_A = []\n",
        "for i in range(20):\n",
        "    elemento_A = int(input(\"Digite o elemento da matriz A na posição {}: \".format(i)))\n",
        "    matriz_A.append(elemento_A)\n",
        "\n",
        "matriz_B = []\n",
        "for i in range(len(matriz_A) - 1, -1, -1):\n",
        "    elemento_B = matriz_A[i]\n",
        "    matriz_B.append(elemento_B)\n",
        "\n",
        "print(\"Matriz A\\tMatriz B\")\n",
        "for i in range(len(matriz_A)):\n",
        "    print(\"{}\\t\\t{}\".format(matriz_A[i], matriz_B[i]))"
      ],
      "metadata": {
        "id": "wLKoIMeAvkWc"
      },
      "execution_count": null,
      "outputs": []
    },
    {
      "cell_type": "code",
      "source": [
        "# h) Ler três matrizes (A, B e C) de uma dimensão com 5 elementos cada. Construir uma matriz D,\n",
        "# sendo esta a junção das três outras matrizes. Desta forma D deverá ter o triplo de elementos, ou\n",
        "# seja, 15. Apresentar os elementos da matriz D.# Lendo os elementos da matriz A\n",
        "\n",
        "matriz_A = []\n",
        "for i in range(5):\n",
        "    elemento_A = int(input(\"Digite o elemento da matriz A na posição {}: \".format(i)))\n",
        "    matriz_A.append(elemento_A)\n",
        "\n",
        "=matriz_B = []\n",
        "for i in range(5):\n",
        "    elemento_B = int(input(\"Digite o elemento da matriz B na posição {}: \".format(i)))\n",
        "    matriz_B.append(elemento_B)\n",
        "\n",
        "matriz_C = []\n",
        "for i in range(5):\n",
        "    elemento_C = int(input(\"Digite o elemento da matriz C na posição {}: \".format(i)))\n",
        "    matriz_C.append(elemento_C)\n",
        "\n",
        "matriz_D = []\n",
        "matriz_D.extend(matriz_A)\n",
        "matriz_D.extend(matriz_B)\n",
        "matriz_D.extend(matriz_C)\n",
        "\n",
        "print(\"Elementos da matriz D:\")\n",
        "for elemento in matriz_D:\n",
        "    print(elemento)"
      ],
      "metadata": {
        "id": "MjuyjQYfv0Hh"
      },
      "execution_count": null,
      "outputs": []
    },
    {
      "cell_type": "code",
      "source": [
        "# i) Ler 15 elementos reais para uma matriz A de uma dimensão do tipo vetor. Construir uma matriz B\n",
        "# de mesmo tipo e dimensão, observando a seguinte lei de formação: “Todo elemento da matriz A\n",
        "# que possuir índice par deverá ter seu elemento dividido por 2; caso contrário, o elemento da matriz\n",
        "# A deverá ser multiplicado por 1.5”. Apresentar as matrizes A e B lado a lado.\n",
        "\n",
        "matriz_A = []\n",
        "for i in range(15):\n",
        "    elemento_A = float(input(\"Digite o elemento da matriz A na posição {}: \".format(i)))\n",
        "    matriz_A.append(elemento_A)\n",
        "\n",
        "matriz_B = []\n",
        "for i in range(len(matriz_A)):\n",
        "    if i % 2 == 0: \n",
        "        elemento_B = matriz_A[i] / 2\n",
        "    else:\n",
        "        elemento_B = matriz_A[i] * 1.5\n",
        "    matriz_B.append(elemento_B)\n",
        "\n",
        "print(\"Matriz A\\tMatriz B\")\n",
        "for i in range(len(matriz_A)):\n",
        "    print(\"{}\\t\\t{}\".format(matriz_A[i], matriz_B[i]))"
      ],
      "metadata": {
        "id": "FdiM8Pvrv6r0"
      },
      "execution_count": null,
      "outputs": []
    },
    {
      "cell_type": "code",
      "source": [
        "# j) Ler duas matrizes A e B de uma dimensão com 6 elementos. A matriz A deverá aceitar apenas a\n",
        "# entrada de valores pares, enquanto a matriz B deverá aceitar apenas a entrada de valores ímpares.\n",
        "# A entrada das matrizes deverá ser validada pelo programa e não pelo usuário. Construir uma matriz\n",
        "# C de forma que a matriz C seja a junção das matrizes A e B, de modo que a matriz C contenha 12\n",
        "# elementos. Apresentar a matriz C.\n",
        "\n",
        "matriz_A = []\n",
        "for i in range(6):\n",
        "    valor = int(input(\"Digite um valor par para a matriz A: \"))\n",
        "    while valor % 2 != 0:\n",
        "        valor = int(input(\"Valor inválido! Digite um valor par para a matriz A: \"))\n",
        "    matriz_A.append(valor)\n",
        "\n",
        "matriz_B = []\n",
        "for i in range(6):\n",
        "    valor = int(input(\"Digite um valor ímpar para a matriz B: \"))\n",
        "    while valor % 2 != 1:\n",
        "        valor = int(input(\"Valor inválido! Digite um valor ímpar para a matriz B: \"))\n",
        "    matriz_B.append(valor)\n",
        "\n",
        "matriz_C = matriz_A + matriz_B\n",
        "\n",
        "print(\"Matriz C:\")\n",
        "for elemento in matriz_C:\n",
        "    print(elemento)"
      ],
      "metadata": {
        "id": "8xxU-XYWwRpJ"
      },
      "execution_count": null,
      "outputs": []
    },
    {
      "cell_type": "code",
      "source": [
        "# #Exercícios adicionais lista 6 \n",
        "# a) Ler duas matrizes A e B de uma dimensão com 12 elementos. A matriz A deverá aceitar\n",
        "# apenas a entrada de valores que sejam divisíveis por 2 ou 3, enquanto a matriz B deverá\n",
        "# aceitar apenas a entrada de valores que não sejam múltiplos de 5. A entrada das matrizes\n",
        "# deverá ser validada pelo programa e não pelo usuário. Construir uma matriz C de forma que\n",
        "# a matriz C seja a junção das matrizes A e B, e de forma que a matriz C contenha 24\n",
        "# elementos. Apresentar a matriz C.\n",
        "\n",
        "def divisivel_por_2_ou_3(numero):\n",
        "    return numero % 2 == 0 or numero % 3 == 0\n",
        "\n",
        "def nao_multiplo_de_5(numero):\n",
        "    return numero % 5 != 0\n",
        "\n",
        "matriz_A = []\n",
        "i = 0\n",
        "while len(matriz_A) < 12:\n",
        "    valor = int(input(\"Digite um valor divisível por 2 ou 3 para a matriz A: \"))\n",
        "    if divisivel_por_2_ou_3(valor):\n",
        "        matriz_A.append(valor)\n",
        "        i += 1\n",
        "    else:\n",
        "        print(\"Valor inválido! Digite um valor divisível por 2 ou 3.\")\n",
        "\n",
        "matriz_B = []\n",
        "i = 0\n",
        "while len(matriz_B) < 12:\n",
        "    valor = int(input(\"Digite um valor não múltiplo de 5 para a matriz B: \"))\n",
        "    if nao_multiplo_de_5(valor):\n",
        "        matriz_B.append(valor)\n",
        "        i += 1\n",
        "    else:\n",
        "        print(\"Valor inválido! Digite um valor não múltiplo de 5.\")\n",
        "\n",
        "matriz_C = matriz_A + matriz_B\n",
        "\n",
        "print(\"Matriz C:\")\n",
        "for elemento in matriz_C:\n",
        "    print(elemento)"
      ],
      "metadata": {
        "id": "Zy78Q590wkv-"
      },
      "execution_count": null,
      "outputs": []
    },
    {
      "cell_type": "code",
      "source": [
        "# b) Ler uma matriz A do tipo vetor com 15 elementos. Construir uma matriz B de mesmo tipo, sendo\n",
        "# que cada elemento da matriz B seja o fatorial do elemento correspondente da matriz A. Apresentar\n",
        "# as matrizes A e B.\n",
        "\n",
        "import math\n",
        "\n",
        "matriz_A = []\n",
        "for i in range(15):\n",
        "    valor = int(input(\"Digite um valor para a matriz A: \"))\n",
        "    matriz_A.append(valor)\n",
        "\n",
        "matriz_B = []\n",
        "for elemento in matriz_A:\n",
        "    fatorial = math.factorial(elemento)\n",
        "    matriz_B.append(fatorial)\n",
        "\n",
        "print(\"Matriz A:\")\n",
        "for elemento in matriz_A:\n",
        "    print(elemento)\n",
        "\n",
        "print(\"\\nMatriz B:\")\n",
        "for elemento in matriz_B:\n",
        "    print(elemento)\n"
      ],
      "metadata": {
        "id": "RD727o4RxAlM"
      },
      "execution_count": null,
      "outputs": []
    },
    {
      "cell_type": "code",
      "source": [
        "# c) Ler 5 elementos (valores reais) para temperaturas em graus Celsius em uma matriz A de uma\n",
        "# dimensão do tipo vetor. Construir uma matriz B de mesmo tipo e dimensão, em que cada elemento\n",
        "# da matriz B deverá ser a conversão da temperatura em graus Fahrenheit do elemento\n",
        "# correspondente da matriz A. Apresentar as matrizes A e B lado a lado. A fórmula de conversão é\n",
        "# 5\n",
        "# 9 +160\n",
        "# =\n",
        "# C\n",
        "# F , sendo F a temperatura em Fahrenheit e C a temperatura em Celsius.\n",
        "\n",
        "\n",
        "matriz_A = []\n",
        "for i in range(5):\n",
        "    temperatura_C = float(input(\"Digite uma temperatura em graus Celsius: \"))\n",
        "    matriz_A.append(temperatura_C)\n",
        "\n",
        "matriz_B = []\n",
        "for temperatura_C in matriz_A:\n",
        "    temperatura_F = (temperatura_C * 9/5) + 32\n",
        "    matriz_B.append(temperatura_F)\n",
        "\n",
        "print(\"Matriz A\\tMatriz B\")\n",
        "for i in range(5):\n",
        "    print(f\"{matriz_A[i]:.2f} °C\\t\\t{matriz_B[i]:.2f} °F\")\n"
      ],
      "metadata": {
        "id": "-Jj8kabdxEuU"
      },
      "execution_count": null,
      "outputs": []
    },
    {
      "cell_type": "code",
      "source": [
        "# d) Solicitar 20 nomes quaisquer que serão armazenados em uma matriz do tipo vetor. Ordene\n",
        "# este vetor em ordem alfabética. Exiba na tela os 20 nomes na ordem. Em seguida solicite um\n",
        "# nome para pesquisa.\n",
        "\n",
        "matriz_nomes = []\n",
        "for i in range(20):\n",
        "    nome = input(\"Digite um nome: \")\n",
        "    matriz_nomes.append(nome)\n",
        "\n",
        "matriz_nomes_ordenada = sorted(matriz_nomes)\n",
        "\n",
        "print(\"Nomes em ordem alfabética:\")\n",
        "for nome in matriz_nomes_ordenada:\n",
        "    print(nome)\n",
        "\n",
        "nome_pesquisa = input(\"Digite um nome para pesquisa: \")\n",
        "if nome_pesquisa in matriz_nomes_ordenada:\n",
        "    print(\"O nome está na lista.\")\n",
        "else:\n",
        "    print(\"O nome não está na lista.\")"
      ],
      "metadata": {
        "id": "S7TR5EepxGf5"
      },
      "execution_count": null,
      "outputs": []
    },
    {
      "cell_type": "code",
      "source": [
        "# Lista 7 exercício 1\n",
        "# a) Ler 12 elementos de uma matriz tipo vetor, coloca-los em ordem decrescente e apresentar os\n",
        "# elementos ordenados.\n",
        "matriz = []\n",
        "for i in range(12):\n",
        "    elemento = int(input(\"Digite um elemento: \"))\n",
        "    matriz.append(elemento)\n",
        "\n",
        "matriz_ordenada = sorted(matriz, reverse=True)\n",
        "\n",
        "print(\"Elementos em ordem decrescente:\")\n",
        "for elemento in matriz_ordenada:\n",
        "    print(elemento)"
      ],
      "metadata": {
        "id": "oR0t2V7SxieU"
      },
      "execution_count": null,
      "outputs": []
    },
    {
      "cell_type": "code",
      "source": [
        "# b) Ler 8 elementos em uma matriz A tipo vetor. Construir uma matriz B de mesma dimensão com os\n",
        "# elementos da matriz A multiplicados 5. Montar uma rotina de pesquisa seqüencial, para pesquisar\n",
        "# os elementos armazenados na matriz B.\n",
        "\n",
        "matriz_A = []\n",
        "for i in range(8):\n",
        "    elemento = int(input(\"Digite um elemento para a matriz A: \"))\n",
        "    matriz_A.append(elemento)\n",
        "\n",
        "matriz_B = [elemento * 5 for elemento in matriz_A]\n",
        "\n",
        "def pesquisa_sequencial(matriz, elemento):\n",
        "    for i in range(len(matriz)):\n",
        "        if matriz[i] == elemento:\n",
        "            return i\n",
        "    return -1\n",
        "\n",
        "elemento_pesquisa = int(input(\"Digite um elemento para pesquisa na matriz B: \"))\n",
        "\n",
        "indice = pesquisa_sequencial(matriz_B, elemento_pesquisa)\n",
        "\n",
        "if indice != -1:\n",
        "    print(f\"O elemento {elemento_pesquisa} foi encontrado na posição {indice} da matriz B.\")\n",
        "else:\n",
        "    print(f\"O elemento {elemento_pesquisa} não foi encontrado na matriz B.\")"
      ],
      "metadata": {
        "id": "tJjfFTbZx_n4"
      },
      "execution_count": null,
      "outputs": []
    },
    {
      "cell_type": "code",
      "source": [
        "# c) Ler uma matriz A tipo vetor que conterá 15 números inteiros. Construir uma matriz B de mesmo tipo,\n",
        "# sendo que cada elemento de B deverá ser a metade (parte inteira) de cada elemento de A.\n",
        "# Apresentar os elementos das matrizes A em ordem decrescente e os elementos da matriz B em\n",
        "# ordem crescente.\n",
        "\n",
        "matriz_A = []\n",
        "for i in range(15):\n",
        "    elemento = int(input(\"Digite um número inteiro para a matriz A: \"))\n",
        "    matriz_A.append(elemento)\n",
        "\n",
        "matriz_A.sort(reverse=True)\n",
        "\n",
        "matriz_B = [elemento // 2 for elemento in matriz_A]\n",
        "\n",
        "matriz_B.sort()\n",
        "\n",
        "print(\"Elementos da matriz A em ordem decrescente:\")\n",
        "for elemento in matriz_A:\n",
        "    print(elemento, end=\" \")\n",
        "\n",
        "print(\"\\nElementos da matriz B em ordem crescente:\")\n",
        "for elemento in matriz_B:\n",
        "    print(elemento, end=\" \")\n"
      ],
      "metadata": {
        "id": "GGKeaWq4yyLR"
      },
      "execution_count": null,
      "outputs": []
    }
  ]
}